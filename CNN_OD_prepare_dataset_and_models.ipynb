{
 "cells": [
  {
   "cell_type": "markdown",
   "metadata": {},
   "source": [
    "**IMPORT LIBRARIES AND CONSTANTS**"
   ]
  },
  {
   "cell_type": "code",
   "execution_count": null,
   "metadata": {},
   "outputs": [],
   "source": [
    "import os\n",
    "import shutil\n",
    "import subprocess\n",
    "import cv2\n",
    "import git\n",
    "import tqdm\n",
    "import time\n",
    "import random\n",
    "\n",
    "PROJECT_FOLDER_ABS_PATH = os.path.dirname(os.path.abspath(\"__file__\")).replace(os.sep, \"/\")\n",
    "\n",
    "from CNN_OD_constants import Constants\n",
    "\n",
    "const = Constants(PROJECT_FOLDER_ABS_PATH)\n",
    "\n",
    "import CNN_OD_xml_to_txt"
   ]
  },
  {
   "cell_type": "markdown",
   "metadata": {},
   "source": [
    "**PREPARE SELECTED SHOT IMAGES**"
   ]
  },
  {
   "cell_type": "code",
   "execution_count": null,
   "metadata": {},
   "outputs": [],
   "source": [
    "if not os.path.exists(const.SELECTED_PREPARED_IMAGES_FOLDER_ABS_PATH):\n",
    "    os.makedirs(const.SELECTED_PREPARED_IMAGES_FOLDER_ABS_PATH)\n",
    "\n",
    "const.SELECTED_CLASS_NAMES_LIST = os.listdir(const.SELECTED_SHOT_IMAGES_FOLDER_ABS_PATH)\n",
    "\n",
    "for class_name in tqdm.tqdm(const.SELECTED_CLASS_NAMES_LIST):\n",
    "    const.SELECTED_CLASSIFIED_SHOT_IMAGES_FOLDER_ABS_PATH = const.SELECTED_SHOT_IMAGES_FOLDER_ABS_PATH + \"/\" + class_name\n",
    "    const.SELECTED_CLASSIFIED_PREPARED_IMAGES_FOLDER_ABS_PATH = const.SELECTED_PREPARED_IMAGES_FOLDER_ABS_PATH + \"/\" + class_name\n",
    "    \n",
    "    if not os.path.exists(const.SELECTED_CLASSIFIED_PREPARED_IMAGES_FOLDER_ABS_PATH):\n",
    "        os.makedirs(const.SELECTED_CLASSIFIED_PREPARED_IMAGES_FOLDER_ABS_PATH)\n",
    "       \n",
    "    for shot_image_name in os.listdir(const.SELECTED_CLASSIFIED_SHOT_IMAGES_FOLDER_ABS_PATH):\n",
    "        if shot_image_name.endswith(\".jpg\"):\n",
    "            shot_image = cv2.imread(const.SELECTED_CLASSIFIED_SHOT_IMAGES_FOLDER_ABS_PATH + \"/\" + shot_image_name)\n",
    "\n",
    "            if shot_image.shape[0] > shot_image.shape[1]:\n",
    "                oriented_shot_image = cv2.rotate(shot_image, cv2.ROTATE_90_CLOCKWISE)\n",
    "            else:\n",
    "                oriented_shot_image = shot_image.copy()\n",
    "            prepared_image = cv2.resize(oriented_shot_image, const.PREPARED_IMAGE_SIZE, interpolation=cv2.INTER_AREA)\n",
    "            cv2.imwrite(const.SELECTED_CLASSIFIED_PREPARED_IMAGES_FOLDER_ABS_PATH + \"/\" + shot_image_name, prepared_image)"
   ]
  },
  {
   "cell_type": "markdown",
   "metadata": {},
   "source": [
    "**SETUP LABELIMG AND LABEL SELECTED PREPARED IMAGES**"
   ]
  },
  {
   "cell_type": "code",
   "execution_count": null,
   "metadata": {},
   "outputs": [],
   "source": [
    "if not os.path.exists(const.LABELIMG_FOLDER_ABS_PATH):\n",
    "    git.Repo.clone_from(const.LABELIMG_URL, const.LABELIMG_FOLDER_ABS_PATH)\n",
    "    activating_process = subprocess.Popen(\"cmd.exe /c cd \" + chr(34) + const.LABELIMG_FOLDER_ABS_PATH + chr(34) + \" && pyrcc5 -o libs/resources.py resources.qrc\")\n",
    "    time.sleep(1)\n",
    "\n",
    "const.SELECTED_CLASS_NAMES_LIST = os.listdir(const.SELECTED_PREPARED_IMAGES_FOLDER_ABS_PATH)\n",
    "\n",
    "for class_name in const.SELECTED_CLASS_NAMES_LIST:\n",
    "    const.SELECTED_CLASSIFIED_XML_LABELS_FOR_PREPARED_IMAGES_FOLDER_ABS_PATH = const.SELECTED_XML_LABELS_FOR_PREPARED_IMAGES_FOLDER_ABS_PATH + \"/\" + class_name\n",
    "    \n",
    "    if not os.path.exists(const.SELECTED_CLASSIFIED_XML_LABELS_FOR_PREPARED_IMAGES_FOLDER_ABS_PATH):\n",
    "        os.makedirs(const.SELECTED_CLASSIFIED_XML_LABELS_FOR_PREPARED_IMAGES_FOLDER_ABS_PATH)\n",
    "\n",
    "starting_process = subprocess.Popen(\"cmd.exe /c cd \" + chr(34) + const.LABELIMG_FOLDER_ABS_PATH + chr(34) + \" && python labelImg.py\")"
   ]
  },
  {
   "cell_type": "markdown",
   "metadata": {},
   "source": [
    "**CONVERT XML LABELS TO TXT LABELS USED WITH YOLO**"
   ]
  },
  {
   "cell_type": "code",
   "execution_count": null,
   "metadata": {},
   "outputs": [],
   "source": [
    "label_names_and_ids_dict = dict()\n",
    "\n",
    "for (genuine_class_id, genuine_class_name) in enumerate(const.SELECTED_GENUINE_CLASS_NAMES_LIST, start=0):\n",
    "    label_names_and_ids_dict[genuine_class_name] = genuine_class_id\n",
    "\n",
    "const.SELECTED_CLASS_NAMES_LIST = os.listdir(const.SELECTED_PREPARED_IMAGES_FOLDER_ABS_PATH)\n",
    "\n",
    "for class_name in tqdm.tqdm(const.SELECTED_CLASS_NAMES_LIST):\n",
    "    const.SELECTED_CLASSIFIED_PREPARED_IMAGES_FOLDER_ABS_PATH = const.SELECTED_PREPARED_IMAGES_FOLDER_ABS_PATH + \"/\" + class_name\n",
    "    const.SELECTED_CLASSIFIED_XML_LABELS_FOR_PREPARED_IMAGES_FOLDER_ABS_PATH = const.SELECTED_XML_LABELS_FOR_PREPARED_IMAGES_FOLDER_ABS_PATH + \"/\" + class_name\n",
    "    const.SELECTED_CLASSIFIED_TXT_LABELS_FOR_PREPARED_IMAGES_FOLDER_ABS_PATH = const.SELECTED_TXT_LABELS_FOR_PREPARED_IMAGES_FOLDER_ABS_PATH + \"/\" + class_name\n",
    "\n",
    "    const.SELECTED_CLASSIFIED_XML_LABELS_FOR_PREPARED_IMAGES_LIST = os.listdir(const.SELECTED_CLASSIFIED_XML_LABELS_FOR_PREPARED_IMAGES_FOLDER_ABS_PATH)\n",
    "\n",
    "    if not os.path.exists(const.SELECTED_CLASSIFIED_TXT_LABELS_FOR_PREPARED_IMAGES_FOLDER_ABS_PATH):\n",
    "        os.makedirs(const.SELECTED_CLASSIFIED_TXT_LABELS_FOR_PREPARED_IMAGES_FOLDER_ABS_PATH)\n",
    "    \n",
    "    for xml_label_name in const.SELECTED_CLASSIFIED_XML_LABELS_FOR_PREPARED_IMAGES_LIST:\n",
    "        CNN_OD_xml_to_txt.convert_xml_to_txt(xml_label_name, label_names_and_ids_dict, const.SELECTED_CLASSIFIED_XML_LABELS_FOR_PREPARED_IMAGES_FOLDER_ABS_PATH, \\\n",
    "            const.SELECTED_CLASSIFIED_TXT_LABELS_FOR_PREPARED_IMAGES_FOLDER_ABS_PATH)"
   ]
  },
  {
   "cell_type": "markdown",
   "metadata": {},
   "source": [
    "**PREPARE SELECTED LABELED SECTIONS**"
   ]
  },
  {
   "cell_type": "code",
   "execution_count": null,
   "metadata": {},
   "outputs": [],
   "source": [
    "for selected_section_folder_abs_path in [const.SELECTED_TRAINING_SECTION_IMAGES_FOLDER_ABS_PATH, const.SELECTED_TRAINING_SECTION_LABELS_FOLDER_ABS_PATH, \\\n",
    "    const.SELECTED_TESTING_SECTION_IMAGES_FOLDER_ABS_PATH, const.SELECTED_TESTING_SECTION_LABELS_FOLDER_ABS_PATH, const.SELECTED_VALIDATION_SECTION_IMAGES_FOLDER_ABS_PATH, \\\n",
    "        const.SELECTED_VALIDATION_SECTION_LABELS_FOLDER_ABS_PATH]:\n",
    "    if os.path.exists(selected_section_folder_abs_path):\n",
    "        shutil.rmtree(selected_section_folder_abs_path)\n",
    "    os.makedirs(selected_section_folder_abs_path)\n",
    "\n",
    "const.SELECTED_CLASS_NAMES_LIST = os.listdir(const.SELECTED_PREPARED_IMAGES_FOLDER_ABS_PATH)\n",
    "\n",
    "for class_name in tqdm.tqdm(const.SELECTED_CLASS_NAMES_LIST):\n",
    "    const.SELECTED_CLASSIFIED_PREPARED_IMAGES_FOLDER_ABS_PATH = const.SELECTED_PREPARED_IMAGES_FOLDER_ABS_PATH + \"/\" + class_name\n",
    "    const.SELECTED_CLASSIFIED_TXT_LABELS_FOR_PREPARED_IMAGES_FOLDER_ABS_PATH = const.SELECTED_TXT_LABELS_FOR_PREPARED_IMAGES_FOLDER_ABS_PATH + \"/\" + class_name\n",
    "    const.SELECTED_CLASSIFIED_PREPARED_IMAGE_NAMES_LIST = os.listdir(const.SELECTED_CLASSIFIED_PREPARED_IMAGES_FOLDER_ABS_PATH)\n",
    "\n",
    "    for prepared_image_name in const.SELECTED_CLASSIFIED_PREPARED_IMAGE_NAMES_LIST:\n",
    "        if prepared_image_name.endswith(\".jpg\"):\n",
    "            txt_label_for_prepared_image = prepared_image_name.replace(\".jpg\", \".txt\")\n",
    "            shutil.copy(const.SELECTED_CLASSIFIED_PREPARED_IMAGES_FOLDER_ABS_PATH + \"/\" + prepared_image_name, const.SELECTED_TRAINING_SECTION_IMAGES_FOLDER_ABS_PATH)\n",
    "            shutil.copy(const.SELECTED_CLASSIFIED_TXT_LABELS_FOR_PREPARED_IMAGES_FOLDER_ABS_PATH + \"/\" + txt_label_for_prepared_image, \\\n",
    "                const.SELECTED_TRAINING_SECTION_LABELS_FOLDER_ABS_PATH)\n",
    "    \n",
    "    const.SELECTED_TESTING_AND_VALIDATION_SECTION_IMAGES_NAMES_LIST = random.sample(const.SELECTED_CLASSIFIED_PREPARED_IMAGE_NAMES_LIST, \\\n",
    "        int(round((const.TESTING_PERCENTAGE_OF_DATASET + const.VALIDATION_PERCENTAGE_OF_DATASET) * len(const.SELECTED_CLASSIFIED_PREPARED_IMAGE_NAMES_LIST))))\n",
    "\n",
    "    for random_prepared_image_name in const.SELECTED_TESTING_AND_VALIDATION_SECTION_IMAGES_NAMES_LIST:\n",
    "        if random_prepared_image_name.endswith(\".jpg\"):\n",
    "            txt_label_for_random_prepared_image = random_prepared_image_name.replace(\".jpg\", \".txt\")\n",
    "            shutil.move(const.SELECTED_TRAINING_SECTION_IMAGES_FOLDER_ABS_PATH + \"/\" + random_prepared_image_name, const.SELECTED_TESTING_SECTION_IMAGES_FOLDER_ABS_PATH + \"/\" + \\\n",
    "                random_prepared_image_name)\n",
    "            shutil.move(const.SELECTED_TRAINING_SECTION_LABELS_FOLDER_ABS_PATH + \"/\" + txt_label_for_random_prepared_image, \\\n",
    "                const.SELECTED_TESTING_SECTION_LABELS_FOLDER_ABS_PATH + \"/\" + txt_label_for_random_prepared_image)\n",
    "    \n",
    "    const.SELECTED_VALIDATION_SECTION_IMAGES_NAMES_LIST = random.sample(const.SELECTED_TESTING_AND_VALIDATION_SECTION_IMAGES_NAMES_LIST, \\\n",
    "        int(round(const.VALIDATION_PERCENTAGE_OF_DATASET / (const.TESTING_PERCENTAGE_OF_DATASET + const.VALIDATION_PERCENTAGE_OF_DATASET) * \\\n",
    "            len(const.SELECTED_TESTING_AND_VALIDATION_SECTION_IMAGES_NAMES_LIST))))\n",
    "    \n",
    "    for random_prepared_image_name in const.SELECTED_VALIDATION_SECTION_IMAGES_NAMES_LIST:\n",
    "        if random_prepared_image_name.endswith(\".jpg\"):\n",
    "            txt_label_for_random_prepared_image = random_prepared_image_name.replace(\".jpg\", \".txt\")\n",
    "            shutil.move(const.SELECTED_TESTING_SECTION_IMAGES_FOLDER_ABS_PATH + \"/\" + random_prepared_image_name, const.SELECTED_VALIDATION_SECTION_IMAGES_FOLDER_ABS_PATH + \\\n",
    "                \"/\" + random_prepared_image_name)\n",
    "            shutil.move(const.SELECTED_TESTING_SECTION_LABELS_FOLDER_ABS_PATH + \"/\" + txt_label_for_random_prepared_image, \\\n",
    "                const.SELECTED_VALIDATION_SECTION_LABELS_FOLDER_ABS_PATH + \"/\" + txt_label_for_random_prepared_image)"
   ]
  },
  {
   "cell_type": "markdown",
   "metadata": {},
   "source": [
    "**ZIP SELECTED LABELED SECTIONS AND COPY OD CONSTANTS FOR SAVING ON GOOGLE DRIVE**"
   ]
  },
  {
   "cell_type": "code",
   "execution_count": null,
   "metadata": {},
   "outputs": [],
   "source": [
    "ZIPPED_SELECTED_LABELED_SECTIONS_FILE_NAME = (const.LABELED_SECTIONS_FOLDER_REL_PATH + \" - \" + const.SELECTED_DATASET_NAME + \" dataset\").replace(\" \", \"_\")\n",
    "ZIPPED_SELECTED_LABELED_SECTIONS_FILE_ABS_PATH = const.GOOGLE_DRIVE_FILES_FOLDER_ABS_PATH + \"/\" + ZIPPED_SELECTED_LABELED_SECTIONS_FILE_NAME\n",
    "\n",
    "if not os.path.exists(const.GOOGLE_DRIVE_FILES_FOLDER_ABS_PATH):\n",
    "    os.makedirs(const.GOOGLE_DRIVE_FILES_FOLDER_ABS_PATH)\n",
    "\n",
    "shutil.make_archive(ZIPPED_SELECTED_LABELED_SECTIONS_FILE_ABS_PATH, \"zip\", const.SELECTED_LABELED_SECTIONS_FOLDER_ABS_PATH)\n",
    "\n",
    "shutil.copy(const.OD_CONSTANTS_FILE_ABS_PATH, const.GOOGLE_DRIVE_FILES_FOLDER_ABS_PATH)"
   ]
  },
  {
   "cell_type": "markdown",
   "metadata": {},
   "source": [
    "**SETUP YOLO MODELS**"
   ]
  },
  {
   "cell_type": "code",
   "execution_count": null,
   "metadata": {},
   "outputs": [],
   "source": [
    "if not os.path.exists(const.YOLO_MODELS_FOLDER_ABS_PATH):\n",
    "  git.Repo.clone_from(const.YOLO_MODELS_URL, const.YOLO_MODELS_FOLDER_ABS_PATH)\n",
    "\n",
    "activating_process = subprocess.Popen(\"cmd.exe /c cd \" + chr(34) + const.YOLO_MODELS_FOLDER_ABS_PATH + chr(34) + \" && pip install -qr requirements.txt\")"
   ]
  },
  {
   "cell_type": "markdown",
   "metadata": {},
   "source": [
    "**UNZIP ZIPPED TRAINED YOLO MODEL FOLDER**"
   ]
  },
  {
   "cell_type": "code",
   "execution_count": null,
   "metadata": {},
   "outputs": [],
   "source": [
    "# trained YOLO model folder name changes for every new trained model\n",
    "\n",
    "# CHANGEABLE VARIABLES:\n",
    "\n",
    "SELECTED_TRAINED_YOLO_MODEL_FOLDER_NAME = \"household_items_model_640DIM_0,005LR_100EP\"\n",
    "\n",
    "# # #\n",
    "\n",
    "\n",
    "SELECTED_ZIPPED_TRAINED_YOLO_MODEL_FILE_NAME = SELECTED_TRAINED_YOLO_MODEL_FOLDER_NAME\n",
    "SELECTED_ZIPPED_TRAINED_YOLO_MODEL_FILE_ABS_PATH = PROJECT_FOLDER_ABS_PATH + \"/\" + SELECTED_ZIPPED_TRAINED_YOLO_MODEL_FILE_NAME\n",
    "\n",
    "SELECTED_MODEL_TRAINED_ON_COLAB_FOLDER_REL_PATH = const.MODELS_TRAINED_ON_COLAB_FOLDER_REL_PATH + \"/\" + SELECTED_TRAINED_YOLO_MODEL_FOLDER_NAME\n",
    "SELECTED_MODEL_TRAINED_ON_COLAB_FOLDER_ABS_PATH = PROJECT_FOLDER_ABS_PATH + \"/\" + SELECTED_MODEL_TRAINED_ON_COLAB_FOLDER_REL_PATH\n",
    "\n",
    "SELECTED_TRAINED_YOLO_MODEL_FOLDER_REL_PATH = \"runs/train/\" + SELECTED_TRAINED_YOLO_MODEL_FOLDER_NAME\n",
    "SELECETD_TRAINED_YOLO_MODEL_FOLDER_ABS_PATH = const.YOLO_MODELS_FOLDER_ABS_PATH + \"/\" + SELECTED_TRAINED_YOLO_MODEL_FOLDER_REL_PATH\n",
    "\n",
    "if os.path.exists(SELECTED_ZIPPED_TRAINED_YOLO_MODEL_FILE_ABS_PATH + \".zip\"):\n",
    "    if not os.path.exists(SELECTED_MODEL_TRAINED_ON_COLAB_FOLDER_ABS_PATH):\n",
    "        os.makedirs(SELECTED_MODEL_TRAINED_ON_COLAB_FOLDER_ABS_PATH)\n",
    "    \n",
    "    if not os.path.exists(SELECETD_TRAINED_YOLO_MODEL_FOLDER_ABS_PATH):\n",
    "        os.makedirs(SELECETD_TRAINED_YOLO_MODEL_FOLDER_ABS_PATH)\n",
    "    \n",
    "    if not os.path.exists(const.MODELS_TRAINED_ON_COLAB_FOLDER_ABS_PATH):\n",
    "        os.makedirs(const.MODELS_TRAINED_ON_COLAB_FOLDER_ABS_PATH)\n",
    "    \n",
    "    shutil.unpack_archive(SELECTED_ZIPPED_TRAINED_YOLO_MODEL_FILE_ABS_PATH + \".zip\", SELECTED_MODEL_TRAINED_ON_COLAB_FOLDER_ABS_PATH, \"zip\")\n",
    "    shutil.unpack_archive(SELECTED_ZIPPED_TRAINED_YOLO_MODEL_FILE_ABS_PATH + \".zip\", SELECETD_TRAINED_YOLO_MODEL_FOLDER_ABS_PATH, \"zip\")\n",
    "    # os.remove(SELECTED_ZIPPED_TRAINED_YOLO_MODEL_FILE_ABS_PATH + \".zip\")"
   ]
  }
 ],
 "metadata": {
  "interpreter": {
   "hash": "976e2d533276fbf6d49c8737f623bd24b1dc3b1a34e897e6bb313f41ec43ee55"
  },
  "kernelspec": {
   "display_name": "Python 3.9.7 64-bit",
   "name": "python3"
  },
  "language_info": {
   "codemirror_mode": {
    "name": "ipython",
    "version": 3
   },
   "file_extension": ".py",
   "mimetype": "text/x-python",
   "name": "python",
   "nbconvert_exporter": "python",
   "pygments_lexer": "ipython3",
   "version": "3.9.7"
  },
  "orig_nbformat": 4
 },
 "nbformat": 4,
 "nbformat_minor": 2
}
